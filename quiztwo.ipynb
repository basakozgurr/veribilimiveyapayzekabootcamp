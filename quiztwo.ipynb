{
 "cells": [
  {
   "cell_type": "code",
   "execution_count": 2,
   "id": "2b36a9a0-4121-47b7-97a7-1263b03b379e",
   "metadata": {},
   "outputs": [],
   "source": [
    "#Aşağıdaki sözlükte, değerler içinde c harfinin geçip geçmediğini gösteren bir if koşulu yazınız"
   ]
  },
  {
   "cell_type": "code",
   "execution_count": 3,
   "id": "2ba46cf7-6e22-4b94-b646-fc4e74069afa",
   "metadata": {},
   "outputs": [],
   "source": [
    "my_dictionary = {\"k1\":10,\"k2k\":\"a\",\"k32\":30,\"k4\":\"c\"}"
   ]
  },
  {
   "cell_type": "code",
   "execution_count": 4,
   "id": "9425578a-7258-4d88-b4c3-c28a26d978dd",
   "metadata": {},
   "outputs": [
    {
     "name": "stdout",
     "output_type": "stream",
     "text": [
      "evet\n"
     ]
    }
   ],
   "source": [
    "if \"c\" in my_dictionary.values():\n",
    "    print(\"evet\")"
   ]
  },
  {
   "cell_type": "markdown",
   "id": "1ab5bc14-6ca8-4eee-8fe1-093f00d950ee",
   "metadata": {},
   "source": [
    "#Aşağıdaki sözlükte, anahtarlar içinde a harfinin geçip geçmediğini gösteren bir if koşulu yazınız"
   ]
  },
  {
   "cell_type": "code",
   "execution_count": 5,
   "id": "0e0e7d71-30ea-4511-8b9f-1c70d1d68186",
   "metadata": {},
   "outputs": [],
   "source": [
    "my_other_dictionary = {\"b\":203,\"c\":\"a\",\"a\":400,\"d\":\"f\"}"
   ]
  },
  {
   "cell_type": "code",
   "execution_count": 6,
   "id": "d67c2ca2-a1dd-41e8-9578-c0ccbdcb4467",
   "metadata": {},
   "outputs": [
    {
     "name": "stdout",
     "output_type": "stream",
     "text": [
      "evet\n"
     ]
    }
   ],
   "source": [
    "if \"a\" in my_other_dictionary.keys():\n",
    "    print(\"evet\")"
   ]
  },
  {
   "cell_type": "code",
   "execution_count": null,
   "id": "0832c462-283f-4620-8e1c-3b138974580f",
   "metadata": {},
   "outputs": [],
   "source": [
    "# Sadece yaşların olduğu yeni ve ayrı bir liste oluşturunuz."
   ]
  },
  {
   "cell_type": "code",
   "execution_count": 7,
   "id": "ccbc6389-4d2e-4ad3-9ba0-15e01ed57b12",
   "metadata": {},
   "outputs": [],
   "source": [
    "age_name_list = [(\"Ahmet\",30),(\"Ayse\",24),(\"Mehmet\",40),(\"Fatma\",29)]\n",
    "\n"
   ]
  },
  {
   "cell_type": "code",
   "execution_count": 10,
   "id": "8da789b9-9178-439d-ba8a-b92c02383fa8",
   "metadata": {},
   "outputs": [],
   "source": [
    "yas_listesi = []\n",
    "for (isim,yas) in age_name_list:\n",
    "    yas_listesi.append(yas)"
   ]
  },
  {
   "cell_type": "markdown",
   "id": "bdd3f119-35d3-40bb-8d36-61420b857181",
   "metadata": {},
   "source": [
    "### Aşağıdaki müzik gruplarından birini rastgele yazdıran bir kod yazınız\n"
   ]
  },
  {
   "cell_type": "code",
   "execution_count": 11,
   "id": "60b918c7-302d-47e8-89a9-99a20bf4cd9e",
   "metadata": {},
   "outputs": [],
   "source": [
    "metal_list = [\"Metallica\",\"Iron Maiden\",\"Dream Theater\",\"Megadeth\",\"AC/DC\"]"
   ]
  },
  {
   "cell_type": "code",
   "execution_count": 12,
   "id": "390cc2f0-5cde-4f3f-a926-08e4b3370558",
   "metadata": {},
   "outputs": [],
   "source": [
    "from random import randint"
   ]
  },
  {
   "cell_type": "code",
   "execution_count": 13,
   "id": "524ff948-8b09-4ddf-a9ad-58fc8531a2a6",
   "metadata": {},
   "outputs": [
    {
     "data": {
      "text/plain": [
       "'Iron Maiden'"
      ]
     },
     "execution_count": 13,
     "metadata": {},
     "output_type": "execute_result"
    }
   ],
   "source": [
    "metal_list[randint(0,len(metal_list)-1)]"
   ]
  },
  {
   "cell_type": "code",
   "execution_count": null,
   "id": "8e39d867-ac15-440d-b91f-255a0ee3a8e0",
   "metadata": {},
   "outputs": [],
   "source": []
  }
 ],
 "metadata": {
  "kernelspec": {
   "display_name": "Python 3 (ipykernel)",
   "language": "python",
   "name": "python3"
  },
  "language_info": {
   "codemirror_mode": {
    "name": "ipython",
    "version": 3
   },
   "file_extension": ".py",
   "mimetype": "text/x-python",
   "name": "python",
   "nbconvert_exporter": "python",
   "pygments_lexer": "ipython3",
   "version": "3.13.5"
  }
 },
 "nbformat": 4,
 "nbformat_minor": 5
}
