{
 "cells": [
  {
   "cell_type": "code",
   "execution_count": null,
   "id": "bc6b626c-5bd8-4310-a17d-b310b36fb7e1",
   "metadata": {},
   "outputs": [],
   "source": [
    "my_string = \"Python Ogreniyorum\""
   ]
  },
  {
   "cell_type": "code",
   "execution_count": 7,
   "id": "833ed6b1-6161-40f0-8669-4513ab420f0b",
   "metadata": {},
   "outputs": [],
   "source": [
    "a=my_string[4]"
   ]
  },
  {
   "cell_type": "code",
   "execution_count": 8,
   "id": "be29c7b6-a3be-4056-856b-ffa804c2ce2d",
   "metadata": {},
   "outputs": [
    {
     "name": "stdout",
     "output_type": "stream",
     "text": [
      "o\n"
     ]
    }
   ],
   "source": [
    "print(a)\n"
   ]
  },
  {
   "cell_type": "code",
   "execution_count": 12,
   "id": "68cb970d-01d5-4bc5-bd14-1790722b4f1c",
   "metadata": {},
   "outputs": [],
   "source": [
    "my_new_string = \"ProgramlamayaMerhabaDedik\""
   ]
  },
  {
   "cell_type": "code",
   "execution_count": 15,
   "id": "35dd507d-d015-4785-bf89-b75384e5bba8",
   "metadata": {},
   "outputs": [],
   "source": [
    "b=my_new_string[4:8:1]"
   ]
  },
  {
   "cell_type": "code",
   "execution_count": 16,
   "id": "f2df05f4-0681-4761-b84a-a360ea3681c3",
   "metadata": {},
   "outputs": [
    {
     "name": "stdout",
     "output_type": "stream",
     "text": [
      "raml\n"
     ]
    }
   ],
   "source": [
    "print(b)"
   ]
  },
  {
   "cell_type": "code",
   "execution_count": 18,
   "id": "7233a242-9cc4-4d5e-ab0d-260b0ed56c40",
   "metadata": {},
   "outputs": [],
   "source": [
    "my_last_string = \"Afyonkarahisarlilastiramadiklarimizdanmisiniz\""
   ]
  },
  {
   "cell_type": "code",
   "execution_count": 20,
   "id": "660bc82c-3722-4609-8be2-eb32083f40a5",
   "metadata": {},
   "outputs": [
    {
     "name": "stdout",
     "output_type": "stream",
     "text": [
      "<class 'str'>\n"
     ]
    }
   ],
   "source": [
    "print(type(my_last_string))"
   ]
  },
  {
   "cell_type": "code",
   "execution_count": 21,
   "id": "2a845f79-18d6-4b28-a6b1-06a3825bafc9",
   "metadata": {},
   "outputs": [],
   "source": [
    "ters=my_last_string[::-1]"
   ]
  },
  {
   "cell_type": "code",
   "execution_count": 22,
   "id": "e6cf20f4-e988-4753-98ce-f8cbdd02fc32",
   "metadata": {},
   "outputs": [
    {
     "name": "stdout",
     "output_type": "stream",
     "text": [
      "zinisimnadzimiralkidamaritsalilrasiharaknoyfA\n"
     ]
    }
   ],
   "source": [
    "print(ters)"
   ]
  },
  {
   "cell_type": "code",
   "execution_count": 24,
   "id": "5f5277c8-4ae0-4357-9932-e0f60d3319aa",
   "metadata": {},
   "outputs": [
    {
     "name": "stdout",
     "output_type": "stream",
     "text": [
      "<class 'float'>\n"
     ]
    }
   ],
   "source": [
    "cevap=4 + 12.2 + 48\n",
    "print(type(cevap))\n"
   ]
  },
  {
   "cell_type": "markdown",
   "id": "5170dab6-86b7-44b5-ae9b-c878decf80fb",
   "metadata": {},
   "source": [
    "### Bu listeyi en az 2 farkli yoldan olusturunuz: [1,3,\"a\"]\n"
   ]
  },
  {
   "cell_type": "code",
   "execution_count": 25,
   "id": "b067d727-8487-45df-b1b3-bbf29b701bbb",
   "metadata": {},
   "outputs": [
    {
     "name": "stdout",
     "output_type": "stream",
     "text": [
      "[1, 3, 'a']\n",
      "{1, 3, 'a'}\n"
     ]
    }
   ],
   "source": [
    "c=[1,3,\"a\"]\n",
    "d={1,3,\"a\"}\n",
    "print(c)\n",
    "print(d)"
   ]
  },
  {
   "cell_type": "code",
   "execution_count": 28,
   "id": "715b2275-5647-4cc1-834c-42c15995a345",
   "metadata": {},
   "outputs": [
    {
     "name": "stdout",
     "output_type": "stream",
     "text": [
      "b\n"
     ]
    }
   ],
   "source": [
    "#Asagidaki \"b\"'yi tek satirda aliniz:\n",
    "my_list = [3.14,4,[2,3,\"b\"],True]\n",
    "a=my_list[2][2]\n",
    "print(a)"
   ]
  },
  {
   "cell_type": "markdown",
   "id": "e2585a21-6f25-4614-b18e-0572b87a9412",
   "metadata": {},
   "source": [
    "# Asagidaki \"a\"'yi tek satirda aliniz:\n"
   ]
  },
  {
   "cell_type": "code",
   "execution_count": 38,
   "id": "395e24e5-f15c-4ebb-9dfa-227cdb80e0ad",
   "metadata": {},
   "outputs": [
    {
     "name": "stdout",
     "output_type": "stream",
     "text": [
      "a\n"
     ]
    }
   ],
   "source": [
    "my_dictionary = {\"key1\":20.25, \"kk2\":[40,{\"k21\":\"a\"}]}\n",
    "a=my_dictionary['kk2'][1]['k21']\n",
    "print(a)"
   ]
  },
  {
   "cell_type": "markdown",
   "id": "dc68019e-d58f-46d9-a6ad-d51d7c330b9d",
   "metadata": {},
   "source": [
    "### Asagidaki liste set'e cevirilince hangi degerler icinde kalacaktir?\n"
   ]
  },
  {
   "cell_type": "code",
   "execution_count": 40,
   "id": "c9caf6ac-99a5-4686-a867-17ffd4711c59",
   "metadata": {},
   "outputs": [
    {
     "name": "stdout",
     "output_type": "stream",
     "text": [
      "{3, 4, 9, 10, 21, 22}\n"
     ]
    }
   ],
   "source": [
    "my_list_to_be_set = [3,4,9,3,21,22,4,3,9,10,21,22]\n",
    "yeni=set(my_list_to_be_set)\n",
    "print(yeni)"
   ]
  },
  {
   "cell_type": "code",
   "execution_count": 42,
   "id": "05042101-9641-4a9f-93e5-c0ce162ede39",
   "metadata": {},
   "outputs": [
    {
     "name": "stdout",
     "output_type": "stream",
     "text": [
      "True\n"
     ]
    }
   ],
   "source": [
    "# 10) Asagidaki ifadenin sonucu ne olacaktir?\n",
    "x = 30 * 5 + 3\n",
    "y = 108 - 2 * 4\n",
    "cev=x > y\n",
    "print(cev)"
   ]
  },
  {
   "cell_type": "code",
   "execution_count": null,
   "id": "03a15eb8-6108-49c9-a5a8-2c9e62f02f93",
   "metadata": {},
   "outputs": [],
   "source": []
  }
 ],
 "metadata": {
  "kernelspec": {
   "display_name": "Python 3 (ipykernel)",
   "language": "python",
   "name": "python3"
  },
  "language_info": {
   "codemirror_mode": {
    "name": "ipython",
    "version": 3
   },
   "file_extension": ".py",
   "mimetype": "text/x-python",
   "name": "python",
   "nbconvert_exporter": "python",
   "pygments_lexer": "ipython3",
   "version": "3.13.5"
  }
 },
 "nbformat": 4,
 "nbformat_minor": 5
}
